{
 "cells": [
  {
   "cell_type": "markdown",
   "id": "696f228f-16ed-4f7a-9834-dbcbabe77e86",
   "metadata": {},
   "source": [
    "# Deepti Mittal Arora\n",
    "Notebook for assignment 7"
   ]
  },
  {
   "cell_type": "code",
   "execution_count": 5,
   "id": "7c624dfa-6c74-46b5-a53d-4aff5b0c5924",
   "metadata": {},
   "outputs": [
    {
     "name": "stdout",
     "output_type": "stream",
     "text": [
      "5.0\n"
     ]
    }
   ],
   "source": [
    "def compute_mean(values):\n",
    "    mean = sum(values) / len(values)\n",
    "    print(mean)\n",
    "compute_mean([2, 4, 6, 8])\n"
   ]
  },
  {
   "cell_type": "markdown",
   "id": "83e612d7-e9f6-40e4-96ba-c90fa72a6352",
   "metadata": {},
   "source": [
    "The code defines the Python function called compute mean that calculates the mean of numbers and then prints the results.\n",
    "\n",
    "The mean ($\\bar{x}$) is calculated using the following equations:\n",
    "$$\\bar{x} = \\frac{1}{n} \\sum_{i=1}^n x_i$$\n",
    "$$\\bar{x} = \\frac{x_1 + x_2 + \\cdots + x_n}{n}$$"
   ]
  }
 ],
 "metadata": {
  "kernelspec": {
   "display_name": "Python 3 (ipykernel)",
   "language": "python",
   "name": "python3"
  },
  "language_info": {
   "codemirror_mode": {
    "name": "ipython",
    "version": 3
   },
   "file_extension": ".py",
   "mimetype": "text/x-python",
   "name": "python",
   "nbconvert_exporter": "python",
   "pygments_lexer": "ipython3",
   "version": "3.12.3"
  }
 },
 "nbformat": 4,
 "nbformat_minor": 5
}
