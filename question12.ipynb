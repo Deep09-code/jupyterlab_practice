{
 "cells": [
  {
   "cell_type": "markdown",
   "id": "4b456794-e9d2-4de8-bcb6-3fcb63f7757d",
   "metadata": {},
   "source": [
    "We are currently working in the following directory:"
   ]
  },
  {
   "cell_type": "code",
   "execution_count": 6,
   "id": "46fd978b-ef28-40a7-b1af-91ce8516e842",
   "metadata": {},
   "outputs": [
    {
     "name": "stdout",
     "output_type": "stream",
     "text": [
      "/c/Users/ashle/jupyterlab_practice\n"
     ]
    }
   ],
   "source": [
    "!pwd"
   ]
  },
  {
   "cell_type": "markdown",
   "id": "1873c3f5-a539-4a0a-937d-4d2dce510510",
   "metadata": {},
   "source": [
    "To time how long it takes to run a Python cell, we could use the 'timeit' command inside a cell as is shown below:\n",
    "\n",
    " ```python\n",
    "%%timeit\n",
    "for i in range(1_000_000)\n",
    "    i**2\n"
   ]
  },
  {
   "cell_type": "code",
   "execution_count": 7,
   "id": "9f1eabc5-344b-4192-a627-c0c08e5371fa",
   "metadata": {},
   "outputs": [
    {
     "name": "stderr",
     "output_type": "stream",
     "text": [
      "[NbConvertApp] Converting notebook question12.ipynb to html\n",
      "[NbConvertApp] Writing 270321 bytes to question12.html\n"
     ]
    }
   ],
   "source": [
    "!jupyter nbconvert --to html --no-input question12.ipynb"
   ]
  }
 ],
 "metadata": {
  "kernelspec": {
   "display_name": "Python 3 (ipykernel)",
   "language": "python",
   "name": "python3"
  },
  "language_info": {
   "codemirror_mode": {
    "name": "ipython",
    "version": 3
   },
   "file_extension": ".py",
   "mimetype": "text/x-python",
   "name": "python",
   "nbconvert_exporter": "python",
   "pygments_lexer": "ipython3",
   "version": "3.12.3"
  }
 },
 "nbformat": 4,
 "nbformat_minor": 5
}
